{
 "cells": [
  {
   "cell_type": "markdown",
   "metadata": {},
   "source": [
    "# Lab | Numpy Deep Dive"
   ]
  },
  {
   "cell_type": "markdown",
   "metadata": {},
   "source": [
    "### 1. Import the NUMPY package under the name np.\n"
   ]
  },
  {
   "cell_type": "code",
   "execution_count": 1,
   "metadata": {},
   "outputs": [],
   "source": [
    "### [your code here]\n",
    "import numpy as np"
   ]
  },
  {
   "cell_type": "markdown",
   "metadata": {},
   "source": [
    "\n",
    "\n",
    "### 2. Print the NUMPY version and the configuration.\n"
   ]
  },
  {
   "cell_type": "code",
   "execution_count": 2,
   "metadata": {},
   "outputs": [
    {
     "name": "stdout",
     "output_type": "stream",
     "text": [
      "2.3.3\n",
      "{\n",
      "  \"Compilers\": {\n",
      "    \"c\": {\n",
      "      \"name\": \"clang\",\n",
      "      \"linker\": \"ld64\",\n",
      "      \"version\": \"15.0.0\",\n",
      "      \"commands\": \"cc\"\n",
      "    },\n",
      "    \"cython\": {\n",
      "      \"name\": \"cython\",\n",
      "      \"linker\": \"cython\",\n",
      "      \"version\": \"3.1.3\",\n",
      "      \"commands\": \"cython\"\n",
      "    },\n",
      "    \"c++\": {\n",
      "      \"name\": \"clang\",\n",
      "      \"linker\": \"ld64\",\n",
      "      \"version\": \"15.0.0\",\n",
      "      \"commands\": \"c++\"\n",
      "    }\n",
      "  },\n",
      "  \"Machine Information\": {\n",
      "    \"host\": {\n",
      "      \"cpu\": \"aarch64\",\n",
      "      \"family\": \"aarch64\",\n",
      "      \"endian\": \"little\",\n",
      "      \"system\": \"darwin\"\n",
      "    },\n",
      "    \"build\": {\n",
      "      \"cpu\": \"aarch64\",\n",
      "      \"family\": \"aarch64\",\n",
      "      \"endian\": \"little\",\n",
      "      \"system\": \"darwin\"\n",
      "    }\n",
      "  },\n",
      "  \"Build Dependencies\": {\n",
      "    \"blas\": {\n",
      "      \"name\": \"accelerate\",\n",
      "      \"found\": true,\n",
      "      \"version\": \"unknown\",\n",
      "      \"detection method\": \"system\",\n",
      "      \"include directory\": \"unknown\",\n",
      "      \"lib directory\": \"unknown\",\n",
      "      \"openblas configuration\": \"unknown\",\n",
      "      \"pc file directory\": \"unknown\"\n",
      "    },\n",
      "    \"lapack\": {\n",
      "      \"name\": \"accelerate\",\n",
      "      \"found\": true,\n",
      "      \"version\": \"unknown\",\n",
      "      \"detection method\": \"system\",\n",
      "      \"include directory\": \"unknown\",\n",
      "      \"lib directory\": \"unknown\",\n",
      "      \"openblas configuration\": \"unknown\",\n",
      "      \"pc file directory\": \"unknown\"\n",
      "    }\n",
      "  },\n",
      "  \"Python Information\": {\n",
      "    \"path\": \"/private/var/folders/y6/nj790rtn62lfktb1sh__79hc0000gn/T/build-env-7ei49knw/bin/python\",\n",
      "    \"version\": \"3.11\"\n",
      "  },\n",
      "  \"SIMD Extensions\": {\n",
      "    \"baseline\": [\n",
      "      \"NEON\",\n",
      "      \"NEON_FP16\",\n",
      "      \"NEON_VFPV4\",\n",
      "      \"ASIMD\"\n",
      "    ],\n",
      "    \"found\": [\n",
      "      \"ASIMDHP\"\n",
      "    ],\n",
      "    \"not found\": [\n",
      "      \"ASIMDFHM\"\n",
      "    ]\n",
      "  }\n",
      "}\n",
      "None\n"
     ]
    },
    {
     "name": "stderr",
     "output_type": "stream",
     "text": [
      "/Users/smithn5/ironhack/labs/.venv/lib/python3.11/site-packages/numpy/__config__.py:155: UserWarning: Install `pyyaml` for better output\n",
      "  warnings.warn(\"Install `pyyaml` for better output\", stacklevel=1)\n"
     ]
    }
   ],
   "source": [
    "### [your code here]\n",
    "print(np.__version__)\n",
    "print(np.show_config())"
   ]
  },
  {
   "cell_type": "markdown",
   "metadata": {},
   "source": [
    "### 3. Generate a 2x3x5 3-dimensional array with random values. Assign the array to variable \"a\"\n",
    "Challenge: there are at least three easy ways that use numpy to generate random arrays. How many ways can you find?\n"
   ]
  },
  {
   "cell_type": "code",
   "execution_count": 6,
   "metadata": {},
   "outputs": [
    {
     "name": "stdout",
     "output_type": "stream",
     "text": [
      "(2, 3, 5)\n"
     ]
    }
   ],
   "source": [
    "### [your code here]\n",
    "a = np.random.random((2, 3, 5))\n",
    "print(a.shape)"
   ]
  },
  {
   "cell_type": "markdown",
   "metadata": {},
   "source": [
    "\n",
    "### 4. Print a.\n"
   ]
  },
  {
   "cell_type": "code",
   "execution_count": 11,
   "metadata": {},
   "outputs": [
    {
     "name": "stdout",
     "output_type": "stream",
     "text": [
      "[[[0.01386579 0.16612561 0.86134338 0.1135286  0.46299382]\n",
      "  [0.44353185 0.32269004 0.71574284 0.98556389 0.71381762]\n",
      "  [0.37400886 0.36333966 0.39456945 0.8090469  0.34433373]]\n",
      "\n",
      " [[0.84208961 0.78300789 0.41282646 0.10042595 0.40621888]\n",
      "  [0.31242008 0.35319104 0.90670909 0.82641371 0.77170052]\n",
      "  [0.92091822 0.76121196 0.59318995 0.47497397 0.97248945]]]\n"
     ]
    }
   ],
   "source": [
    "### [your code here]\n",
    "print(a)"
   ]
  },
  {
   "cell_type": "markdown",
   "metadata": {},
   "source": [
    "### 5. Create a 5x2x3 3-dimensional array with all values equaling 1.\n",
    "### Assign the array to variable \"b\"\n"
   ]
  },
  {
   "cell_type": "code",
   "execution_count": 8,
   "metadata": {},
   "outputs": [],
   "source": [
    "### [your code here]\n",
    "b = np.ones((5, 2, 3))"
   ]
  },
  {
   "cell_type": "markdown",
   "metadata": {},
   "source": [
    "\n",
    "### 6. Print b.\n"
   ]
  },
  {
   "cell_type": "code",
   "execution_count": 9,
   "metadata": {},
   "outputs": [
    {
     "name": "stdout",
     "output_type": "stream",
     "text": [
      "[[[1. 1. 1.]\n",
      "  [1. 1. 1.]]\n",
      "\n",
      " [[1. 1. 1.]\n",
      "  [1. 1. 1.]]\n",
      "\n",
      " [[1. 1. 1.]\n",
      "  [1. 1. 1.]]\n",
      "\n",
      " [[1. 1. 1.]\n",
      "  [1. 1. 1.]]\n",
      "\n",
      " [[1. 1. 1.]\n",
      "  [1. 1. 1.]]]\n"
     ]
    }
   ],
   "source": [
    "### [your code here]\n",
    "print(b)"
   ]
  },
  {
   "cell_type": "markdown",
   "metadata": {},
   "source": [
    "\n",
    "### 7. Do a and b have the same size? How do you prove that in Python code?\n"
   ]
  },
  {
   "cell_type": "code",
   "execution_count": 10,
   "metadata": {},
   "outputs": [
    {
     "data": {
      "text/plain": [
       "True"
      ]
     },
     "execution_count": 10,
     "metadata": {},
     "output_type": "execute_result"
    }
   ],
   "source": [
    "### [your code here]\n",
    "a.size == b.size"
   ]
  },
  {
   "cell_type": "markdown",
   "metadata": {},
   "source": [
    "\n",
    "### 8. Are you able to add a and b? Why or why not?\n"
   ]
  },
  {
   "cell_type": "code",
   "execution_count": null,
   "metadata": {},
   "outputs": [
    {
     "ename": "ValueError",
     "evalue": "operands could not be broadcast together with shapes (2,3,5) (5,2,3) ",
     "output_type": "error",
     "traceback": [
      "\u001b[31m---------------------------------------------------------------------------\u001b[39m",
      "\u001b[31mValueError\u001b[39m                                Traceback (most recent call last)",
      "\u001b[36mCell\u001b[39m\u001b[36m \u001b[39m\u001b[32mIn[12]\u001b[39m\u001b[32m, line 2\u001b[39m\n\u001b[32m      1\u001b[39m \u001b[38;5;66;03m### [your code here]\u001b[39;00m\n\u001b[32m----> \u001b[39m\u001b[32m2\u001b[39m \u001b[43ma\u001b[49m\u001b[43m \u001b[49m\u001b[43m+\u001b[49m\u001b[43m \u001b[49m\u001b[43mb\u001b[49m\n",
      "\u001b[31mValueError\u001b[39m: operands could not be broadcast together with shapes (2,3,5) (5,2,3) "
     ]
    }
   ],
   "source": [
    "### [your code here]\n",
    "a + b\n",
    "# different shapes, but same size"
   ]
  },
  {
   "cell_type": "markdown",
   "metadata": {},
   "source": [
    "\n",
    "\n",
    "### 9. Transpose b so that it has the same structure of a (i.e. become a 2x3x5 array). Assign the transposed array to varialbe \"c\".\n"
   ]
  },
  {
   "cell_type": "code",
   "execution_count": 22,
   "metadata": {},
   "outputs": [],
   "source": [
    "### [your code here]\n",
    "#Transpose b so that it has the same structure of a (i.e. become a 2x3x5 array)\n",
    "c = b.transpose(1, 2, 0)\n",
    "\n"
   ]
  },
  {
   "cell_type": "markdown",
   "metadata": {},
   "source": [
    "\n",
    "### 10. Try to add a and c. Now it should work. Assign the sum to variable \"d\". But why does it work now?\n"
   ]
  },
  {
   "cell_type": "code",
   "execution_count": 24,
   "metadata": {},
   "outputs": [],
   "source": [
    "### [your code here]\n",
    "d =c + a"
   ]
  },
  {
   "cell_type": "markdown",
   "metadata": {},
   "source": [
    "\n",
    "### 11. Print a and d. Notice the difference and relation of the two array in terms of the values? Explain.\n"
   ]
  },
  {
   "cell_type": "code",
   "execution_count": null,
   "metadata": {},
   "outputs": [
    {
     "name": "stdout",
     "output_type": "stream",
     "text": [
      "[[[0.01386579 0.16612561 0.86134338 0.1135286  0.46299382]\n",
      "  [0.44353185 0.32269004 0.71574284 0.98556389 0.71381762]\n",
      "  [0.37400886 0.36333966 0.39456945 0.8090469  0.34433373]]\n",
      "\n",
      " [[0.84208961 0.78300789 0.41282646 0.10042595 0.40621888]\n",
      "  [0.31242008 0.35319104 0.90670909 0.82641371 0.77170052]\n",
      "  [0.92091822 0.76121196 0.59318995 0.47497397 0.97248945]]]\n",
      "[[[1.01386579 1.16612561 1.86134338 1.1135286  1.46299382]\n",
      "  [1.44353185 1.32269004 1.71574284 1.98556389 1.71381762]\n",
      "  [1.37400886 1.36333966 1.39456945 1.8090469  1.34433373]]\n",
      "\n",
      " [[1.84208961 1.78300789 1.41282646 1.10042595 1.40621888]\n",
      "  [1.31242008 1.35319104 1.90670909 1.82641371 1.77170052]\n",
      "  [1.92091822 1.76121196 1.59318995 1.47497397 1.97248945]]]\n"
     ]
    }
   ],
   "source": [
    "print(a)\n",
    "print(d)\n",
    "# added 1 to each element in a\n"
   ]
  },
  {
   "cell_type": "markdown",
   "metadata": {},
   "source": [
    "\n",
    "### 12. Multiply a and c. Assign the result to e.\n"
   ]
  },
  {
   "cell_type": "code",
   "execution_count": 27,
   "metadata": {},
   "outputs": [],
   "source": [
    "### [your code here]\n",
    "e = a * c\n"
   ]
  },
  {
   "cell_type": "markdown",
   "metadata": {},
   "source": [
    "\n",
    "\n",
    "### 13. Does e equal to a? Why or why not?\n"
   ]
  },
  {
   "cell_type": "code",
   "execution_count": null,
   "metadata": {},
   "outputs": [
    {
     "data": {
      "text/plain": [
       "array([[[ True,  True,  True,  True,  True],\n",
       "        [ True,  True,  True,  True,  True],\n",
       "        [ True,  True,  True,  True,  True]],\n",
       "\n",
       "       [[ True,  True,  True,  True,  True],\n",
       "        [ True,  True,  True,  True,  True],\n",
       "        [ True,  True,  True,  True,  True]]])"
      ]
     },
     "execution_count": 28,
     "metadata": {},
     "output_type": "execute_result"
    }
   ],
   "source": [
    "### [your code here]\n",
    "a == e\n",
    "# multiplying by 1 does not change the array"
   ]
  },
  {
   "cell_type": "markdown",
   "metadata": {},
   "source": [
    "\n",
    "\n",
    "### 14. Identify the max, min, and mean values in d. Assign those values to variables \"d_max\", \"d_min\", and \"d_mean\"\n"
   ]
  },
  {
   "cell_type": "code",
   "execution_count": 44,
   "metadata": {},
   "outputs": [
    {
     "name": "stdout",
     "output_type": "stream",
     "text": [
      "1.9855638911438103 1.0138657923919459 1.5507429616658586\n"
     ]
    }
   ],
   "source": [
    "### [your code here]\n",
    "# flatten d\n",
    "d_flat = d.flatten()\n",
    "d_max = np.max(d_flat)\n",
    "d_min = np.min(d_flat)\n",
    "d_mean = np.mean(d_flat)\n",
    "print(d_max, d_min, d_mean)\n"
   ]
  },
  {
   "cell_type": "markdown",
   "metadata": {},
   "source": [
    "\n",
    "### 15. Now we want to label the values in d. First create an empty array \"f\" with the same shape (i.e. 2x3x5) as d using `np.empty`.\n"
   ]
  },
  {
   "cell_type": "code",
   "execution_count": 41,
   "metadata": {},
   "outputs": [
    {
     "name": "stdout",
     "output_type": "stream",
     "text": [
      "[[[nan nan nan nan nan]\n",
      "  [nan nan nan nan nan]\n",
      "  [nan nan nan nan nan]]\n",
      "\n",
      " [[nan nan nan nan nan]\n",
      "  [nan nan nan nan nan]\n",
      "  [nan nan nan nan nan]]]\n"
     ]
    }
   ],
   "source": [
    "### [your code here]\n",
    "# create an empty array of shape (2, 3, 5)\n",
    "f = np.empty(d.shape)\n",
    "f[:] = np.nan\n",
    "print(f)"
   ]
  },
  {
   "cell_type": "markdown",
   "metadata": {},
   "source": [
    "\n",
    "\n",
    "\n",
    "### 16. Populate the values in f. For each value in d, if it's larger than d_min but smaller than d_mean, assign 25 to the corresponding value in f.\n",
    "If a value in d is larger than d_mean but smaller than d_max, assign 75 to the corresponding value in f.\n",
    "If a value equals to d_mean, assign 50 to the corresponding value in f.\n",
    "Assign 0 to the corresponding value(s) in f for d_min in d.\n",
    "Assign 100 to the corresponding value(s) in f for d_max in d.\n",
    "In the end, f should have only the following values: 0, 25, 50, 75, and 100.\n",
    "Note: you don't have to use Numpy in this question.\n",
    "\n"
   ]
  },
  {
   "cell_type": "code",
   "execution_count": 45,
   "metadata": {},
   "outputs": [],
   "source": [
    "### [your code here]\n",
    "f[np.where(d == d_min)] = 0\n",
    "f[np.where((d > d_min) & (d < d_mean))] = 25\n",
    "f[np.where((d > d_mean) & (d < d_max))] = 75\n",
    "f[np.where(d == d_mean)] = 50\n",
    "f[np.where(d == d_max)] = 100"
   ]
  },
  {
   "cell_type": "markdown",
   "metadata": {},
   "source": [
    "\n",
    "\n",
    "\n",
    "\n",
    "### 17. Print d and f. Do you have your expected f?\n",
    "For instance, if your d is:\n",
    "array([[[1.85836099, 1.67064465, 1.62576044, 1.40243961, 1.88454931],\n",
    "        [1.75354326, 1.69403643, 1.36729252, 1.61415071, 1.12104981],\n",
    "        [1.72201435, 1.1862918 , 1.87078449, 1.7726778 , 1.88180042]],\n",
    "\n",
    "       [[1.44747908, 1.31673383, 1.02000951, 1.52218947, 1.97066381],\n",
    "        [1.79129243, 1.74983003, 1.96028037, 1.85166831, 1.65450881],\n",
    "        [1.18068344, 1.9587381 , 1.00656599, 1.93402165, 1.73514584]]])\n",
    "\n",
    "Your f should be:\n",
    "array([[[ 75.,  75.,  75.,  25.,  75.],\n",
    "        [ 75.,  75.,  25.,  25.,  25.],\n",
    "        [ 75.,  25.,  75.,  75.,  75.]],\n",
    "\n",
    "       [[ 25.,  25.,  25.,  25., 100.],\n",
    "        [ 75.,  75.,  75.,  75.,  75.],\n",
    "        [ 25.,  75.,   0.,  75.,  75.]]])\n",
    "\n"
   ]
  },
  {
   "cell_type": "code",
   "execution_count": 46,
   "metadata": {},
   "outputs": [
    {
     "name": "stdout",
     "output_type": "stream",
     "text": [
      "[[[1.01386579 1.16612561 1.86134338 1.1135286  1.46299382]\n",
      "  [1.44353185 1.32269004 1.71574284 1.98556389 1.71381762]\n",
      "  [1.37400886 1.36333966 1.39456945 1.8090469  1.34433373]]\n",
      "\n",
      " [[1.84208961 1.78300789 1.41282646 1.10042595 1.40621888]\n",
      "  [1.31242008 1.35319104 1.90670909 1.82641371 1.77170052]\n",
      "  [1.92091822 1.76121196 1.59318995 1.47497397 1.97248945]]]\n",
      "[[[  0.  25.  75.  25.  25.]\n",
      "  [ 25.  25.  75. 100.  75.]\n",
      "  [ 25.  25.  25.  75.  25.]]\n",
      "\n",
      " [[ 75.  75.  25.  25.  25.]\n",
      "  [ 25.  25.  75.  75.  75.]\n",
      "  [ 75.  75.  75.  25.  75.]]]\n"
     ]
    }
   ],
   "source": [
    "### [your code here]\n",
    "print(d)\n",
    "print(f)"
   ]
  },
  {
   "cell_type": "markdown",
   "metadata": {},
   "source": [
    "### 18. Bonus question: instead of using numbers (i.e. 0, 25, 50, 75, and 100), how to use string values \n",
    "(\"A\", \"B\", \"C\", \"D\", and \"E\") to label the array elements? You are expecting the result to be:\n",
    "array([[[ 'D',  'D',  'D',  'B',  'D'],\n",
    "        [ 'D',  'D',  'B',  'B',  'B'],\n",
    "        [ 'D',  'B',  'D',  'D',  'D']],\n",
    "\n",
    "       [[ 'B',  'B',  'B',  'B',  'E'],\n",
    "        [ 'D',  'D',  'D',  'D',  'D'],\n",
    "        [ 'B',  'D',   'A',  'D', 'D']]])\n",
    "Again, you don't need Numpy in this question."
   ]
  },
  {
   "cell_type": "code",
   "execution_count": 49,
   "metadata": {},
   "outputs": [],
   "source": [
    "### [your code here]\n",
    "f = f.astype(str)\n",
    "f[np.where(d == d_min)] = 'A'\n",
    "f[np.where((d > d_min) & (d < d_mean))] = 'B'\n",
    "f[np.where((d > d_mean) & (d < d_max))] = 'C'\n",
    "f[np.where(d == d_mean)] = 'D'\n",
    "f[np.where(d == d_max)] = 'E'"
   ]
  },
  {
   "cell_type": "code",
   "execution_count": 50,
   "metadata": {},
   "outputs": [
    {
     "name": "stdout",
     "output_type": "stream",
     "text": [
      "[[['A' 'B' 'C' 'B' 'B']\n",
      "  ['B' 'B' 'C' 'E' 'C']\n",
      "  ['B' 'B' 'B' 'C' 'B']]\n",
      "\n",
      " [['C' 'C' 'B' 'B' 'B']\n",
      "  ['B' 'B' 'C' 'C' 'C']\n",
      "  ['C' 'C' 'C' 'B' 'C']]]\n"
     ]
    }
   ],
   "source": [
    "print(f)    "
   ]
  },
  {
   "cell_type": "code",
   "execution_count": null,
   "metadata": {},
   "outputs": [],
   "source": []
  }
 ],
 "metadata": {
  "kernelspec": {
   "display_name": ".venv",
   "language": "python",
   "name": "python3"
  },
  "language_info": {
   "codemirror_mode": {
    "name": "ipython",
    "version": 3
   },
   "file_extension": ".py",
   "mimetype": "text/x-python",
   "name": "python",
   "nbconvert_exporter": "python",
   "pygments_lexer": "ipython3",
   "version": "3.11.6"
  }
 },
 "nbformat": 4,
 "nbformat_minor": 2
}
